{
 "cells": [
  {
   "cell_type": "code",
   "execution_count": 5,
   "id": "0122f5c3",
   "metadata": {},
   "outputs": [
    {
     "data": {
      "text/plain": [
       "'e'"
      ]
     },
     "execution_count": 5,
     "metadata": {},
     "output_type": "execute_result"
    }
   ],
   "source": [
    "def find_the_middle(x):\n",
    "    letter = len(x)//2\n",
    "    return x[letter-1:letter+1] if not len(x) % 2 else x[letter]\n",
    "\n",
    "(find_the_middle('sleep'))"
   ]
  },
  {
   "cell_type": "code",
   "execution_count": null,
   "id": "ea0b94e3",
   "metadata": {},
   "outputs": [],
   "source": []
  }
 ],
 "metadata": {
  "kernelspec": {
   "display_name": "Python 3 (ipykernel)",
   "language": "python",
   "name": "python3"
  },
  "language_info": {
   "codemirror_mode": {
    "name": "ipython",
    "version": 3
   },
   "file_extension": ".py",
   "mimetype": "text/x-python",
   "name": "python",
   "nbconvert_exporter": "python",
   "pygments_lexer": "ipython3",
   "version": "3.11.5"
  }
 },
 "nbformat": 4,
 "nbformat_minor": 5
}
